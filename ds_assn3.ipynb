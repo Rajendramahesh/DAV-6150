{
  "cells": [
    {
      "cell_type": "markdown",
      "metadata": {
        "colab_type": "text",
        "id": "view-in-github"
      },
      "source": [
        "<a href=\"https://colab.research.google.com/github/Rajendramahesh/DAV-6150/blob/main/ds_assn3.ipynb\" target=\"_parent\"><img src=\"https://colab.research.google.com/assets/colab-badge.svg\" alt=\"Open In Colab\"/></a>"
      ]
    },
    {
      "cell_type": "markdown",
      "metadata": {
        "id": "GaBxlKNXMegI"
      },
      "source": [
        "# Introduction"
      ]
    },
    {
      "cell_type": "markdown",
      "metadata": {
        "id": "OGfSH_gaNtZi"
      },
      "source": [
        "## Data Acquition"
      ]
    },
    {
      "cell_type": "code",
      "execution_count": 3,
      "metadata": {
        "id": "i1-Ejzz7g94P"
      },
      "outputs": [],
      "source": [
        "import pandas as pd"
      ]
    },
    {
      "cell_type": "code",
      "execution_count": 4,
      "metadata": {
        "id": "R8QrcVICPHoF"
      },
      "outputs": [],
      "source": [
        "dataset_url = \"https://raw.githubusercontent.com/Rajendramahesh/Analytical-programing-datasets/refs/heads/main/Wine%20dataset.csv\"\n",
        "df = pd.read_csv(dataset_url)"
      ]
    },
    {
      "cell_type": "code",
      "execution_count": 5,
      "metadata": {
        "colab": {
          "base_uri": "https://localhost:8080/",
          "height": 461
        },
        "id": "6A6cQTo-PHYL",
        "outputId": "4b2f1158-5ce6-4cf9-9f31-a049a27cd860"
      },
      "outputs": [
        {
          "data": {
            "text/html": [
              "<div>\n",
              "<style scoped>\n",
              "    .dataframe tbody tr th:only-of-type {\n",
              "        vertical-align: middle;\n",
              "    }\n",
              "\n",
              "    .dataframe tbody tr th {\n",
              "        vertical-align: top;\n",
              "    }\n",
              "\n",
              "    .dataframe thead th {\n",
              "        text-align: right;\n",
              "    }\n",
              "</style>\n",
              "<table border=\"1\" class=\"dataframe\">\n",
              "  <thead>\n",
              "    <tr style=\"text-align: right;\">\n",
              "      <th></th>\n",
              "      <th>Unnamed: 0</th>\n",
              "      <th>INDEX</th>\n",
              "      <th>TARGET</th>\n",
              "      <th>FixedAcidity</th>\n",
              "      <th>VolatileAcidity</th>\n",
              "      <th>CitricAcid</th>\n",
              "      <th>ResidualSugar</th>\n",
              "      <th>Chlorides</th>\n",
              "      <th>FreeSulfurDioxide</th>\n",
              "      <th>TotalSulfurDioxide</th>\n",
              "      <th>Density</th>\n",
              "      <th>pH</th>\n",
              "      <th>Sulphates</th>\n",
              "      <th>Alcohol</th>\n",
              "      <th>LabelAppeal</th>\n",
              "      <th>AcidIndex</th>\n",
              "      <th>STARS</th>\n",
              "    </tr>\n",
              "  </thead>\n",
              "  <tbody>\n",
              "    <tr>\n",
              "      <th>0</th>\n",
              "      <td>0</td>\n",
              "      <td>1</td>\n",
              "      <td>3</td>\n",
              "      <td>3.2</td>\n",
              "      <td>1.160</td>\n",
              "      <td>0.98</td>\n",
              "      <td>54.2</td>\n",
              "      <td>0.567</td>\n",
              "      <td>NaN</td>\n",
              "      <td>268.0</td>\n",
              "      <td>0.99280</td>\n",
              "      <td>3.33</td>\n",
              "      <td>0.59</td>\n",
              "      <td>9.9</td>\n",
              "      <td>0</td>\n",
              "      <td>8</td>\n",
              "      <td>2.0</td>\n",
              "    </tr>\n",
              "    <tr>\n",
              "      <th>1</th>\n",
              "      <td>1</td>\n",
              "      <td>2</td>\n",
              "      <td>3</td>\n",
              "      <td>4.5</td>\n",
              "      <td>0.160</td>\n",
              "      <td>0.81</td>\n",
              "      <td>26.1</td>\n",
              "      <td>0.425</td>\n",
              "      <td>15.0</td>\n",
              "      <td>327.0</td>\n",
              "      <td>1.02792</td>\n",
              "      <td>3.38</td>\n",
              "      <td>0.70</td>\n",
              "      <td>NaN</td>\n",
              "      <td>-1</td>\n",
              "      <td>7</td>\n",
              "      <td>3.0</td>\n",
              "    </tr>\n",
              "    <tr>\n",
              "      <th>2</th>\n",
              "      <td>2</td>\n",
              "      <td>4</td>\n",
              "      <td>5</td>\n",
              "      <td>7.1</td>\n",
              "      <td>2.640</td>\n",
              "      <td>0.88</td>\n",
              "      <td>14.8</td>\n",
              "      <td>0.037</td>\n",
              "      <td>214.0</td>\n",
              "      <td>142.0</td>\n",
              "      <td>0.99518</td>\n",
              "      <td>3.12</td>\n",
              "      <td>0.48</td>\n",
              "      <td>22.0</td>\n",
              "      <td>-1</td>\n",
              "      <td>8</td>\n",
              "      <td>3.0</td>\n",
              "    </tr>\n",
              "    <tr>\n",
              "      <th>3</th>\n",
              "      <td>3</td>\n",
              "      <td>5</td>\n",
              "      <td>3</td>\n",
              "      <td>5.7</td>\n",
              "      <td>0.385</td>\n",
              "      <td>0.04</td>\n",
              "      <td>18.8</td>\n",
              "      <td>0.425</td>\n",
              "      <td>22.0</td>\n",
              "      <td>115.0</td>\n",
              "      <td>0.99640</td>\n",
              "      <td>2.24</td>\n",
              "      <td>1.83</td>\n",
              "      <td>6.2</td>\n",
              "      <td>-1</td>\n",
              "      <td>6</td>\n",
              "      <td>1.0</td>\n",
              "    </tr>\n",
              "    <tr>\n",
              "      <th>4</th>\n",
              "      <td>4</td>\n",
              "      <td>6</td>\n",
              "      <td>4</td>\n",
              "      <td>8.0</td>\n",
              "      <td>0.330</td>\n",
              "      <td>1.26</td>\n",
              "      <td>9.4</td>\n",
              "      <td>NaN</td>\n",
              "      <td>167.0</td>\n",
              "      <td>108.0</td>\n",
              "      <td>0.99457</td>\n",
              "      <td>3.12</td>\n",
              "      <td>1.77</td>\n",
              "      <td>13.7</td>\n",
              "      <td>0</td>\n",
              "      <td>9</td>\n",
              "      <td>2.0</td>\n",
              "    </tr>\n",
              "    <tr>\n",
              "      <th>...</th>\n",
              "      <td>...</td>\n",
              "      <td>...</td>\n",
              "      <td>...</td>\n",
              "      <td>...</td>\n",
              "      <td>...</td>\n",
              "      <td>...</td>\n",
              "      <td>...</td>\n",
              "      <td>...</td>\n",
              "      <td>...</td>\n",
              "      <td>...</td>\n",
              "      <td>...</td>\n",
              "      <td>...</td>\n",
              "      <td>...</td>\n",
              "      <td>...</td>\n",
              "      <td>...</td>\n",
              "      <td>...</td>\n",
              "      <td>...</td>\n",
              "    </tr>\n",
              "    <tr>\n",
              "      <th>12790</th>\n",
              "      <td>12790</td>\n",
              "      <td>16120</td>\n",
              "      <td>0</td>\n",
              "      <td>5.0</td>\n",
              "      <td>0.790</td>\n",
              "      <td>2.01</td>\n",
              "      <td>5.0</td>\n",
              "      <td>0.043</td>\n",
              "      <td>17.0</td>\n",
              "      <td>101.0</td>\n",
              "      <td>1.01077</td>\n",
              "      <td>3.39</td>\n",
              "      <td>0.57</td>\n",
              "      <td>4.9</td>\n",
              "      <td>1</td>\n",
              "      <td>5</td>\n",
              "      <td>NaN</td>\n",
              "    </tr>\n",
              "    <tr>\n",
              "      <th>12791</th>\n",
              "      <td>12791</td>\n",
              "      <td>16123</td>\n",
              "      <td>5</td>\n",
              "      <td>8.9</td>\n",
              "      <td>0.470</td>\n",
              "      <td>0.29</td>\n",
              "      <td>84.9</td>\n",
              "      <td>0.259</td>\n",
              "      <td>54.0</td>\n",
              "      <td>NaN</td>\n",
              "      <td>0.99518</td>\n",
              "      <td>4.46</td>\n",
              "      <td>1.20</td>\n",
              "      <td>NaN</td>\n",
              "      <td>-1</td>\n",
              "      <td>8</td>\n",
              "      <td>2.0</td>\n",
              "    </tr>\n",
              "    <tr>\n",
              "      <th>12792</th>\n",
              "      <td>12792</td>\n",
              "      <td>16127</td>\n",
              "      <td>4</td>\n",
              "      <td>6.0</td>\n",
              "      <td>0.170</td>\n",
              "      <td>1.10</td>\n",
              "      <td>37.0</td>\n",
              "      <td>0.078</td>\n",
              "      <td>25.0</td>\n",
              "      <td>108.0</td>\n",
              "      <td>0.99076</td>\n",
              "      <td>3.25</td>\n",
              "      <td>NaN</td>\n",
              "      <td>12.3</td>\n",
              "      <td>0</td>\n",
              "      <td>6</td>\n",
              "      <td>2.0</td>\n",
              "    </tr>\n",
              "    <tr>\n",
              "      <th>12793</th>\n",
              "      <td>12793</td>\n",
              "      <td>16128</td>\n",
              "      <td>3</td>\n",
              "      <td>7.7</td>\n",
              "      <td>0.320</td>\n",
              "      <td>0.12</td>\n",
              "      <td>NaN</td>\n",
              "      <td>0.029</td>\n",
              "      <td>26.0</td>\n",
              "      <td>274.0</td>\n",
              "      <td>0.99060</td>\n",
              "      <td>3.97</td>\n",
              "      <td>0.62</td>\n",
              "      <td>11.0</td>\n",
              "      <td>-1</td>\n",
              "      <td>6</td>\n",
              "      <td>2.0</td>\n",
              "    </tr>\n",
              "    <tr>\n",
              "      <th>12794</th>\n",
              "      <td>12794</td>\n",
              "      <td>16129</td>\n",
              "      <td>4</td>\n",
              "      <td>5.2</td>\n",
              "      <td>0.040</td>\n",
              "      <td>0.81</td>\n",
              "      <td>52.7</td>\n",
              "      <td>NaN</td>\n",
              "      <td>106.0</td>\n",
              "      <td>242.0</td>\n",
              "      <td>0.99454</td>\n",
              "      <td>3.94</td>\n",
              "      <td>0.12</td>\n",
              "      <td>9.9</td>\n",
              "      <td>0</td>\n",
              "      <td>7</td>\n",
              "      <td>2.0</td>\n",
              "    </tr>\n",
              "  </tbody>\n",
              "</table>\n",
              "<p>12795 rows × 17 columns</p>\n",
              "</div>"
            ],
            "text/plain": [
              "       Unnamed: 0  INDEX  TARGET  FixedAcidity  VolatileAcidity  CitricAcid  \\\n",
              "0               0      1       3           3.2            1.160        0.98   \n",
              "1               1      2       3           4.5            0.160        0.81   \n",
              "2               2      4       5           7.1            2.640        0.88   \n",
              "3               3      5       3           5.7            0.385        0.04   \n",
              "4               4      6       4           8.0            0.330        1.26   \n",
              "...           ...    ...     ...           ...              ...         ...   \n",
              "12790       12790  16120       0           5.0            0.790        2.01   \n",
              "12791       12791  16123       5           8.9            0.470        0.29   \n",
              "12792       12792  16127       4           6.0            0.170        1.10   \n",
              "12793       12793  16128       3           7.7            0.320        0.12   \n",
              "12794       12794  16129       4           5.2            0.040        0.81   \n",
              "\n",
              "       ResidualSugar  Chlorides  FreeSulfurDioxide  TotalSulfurDioxide  \\\n",
              "0               54.2      0.567                NaN               268.0   \n",
              "1               26.1      0.425               15.0               327.0   \n",
              "2               14.8      0.037              214.0               142.0   \n",
              "3               18.8      0.425               22.0               115.0   \n",
              "4                9.4        NaN              167.0               108.0   \n",
              "...              ...        ...                ...                 ...   \n",
              "12790            5.0      0.043               17.0               101.0   \n",
              "12791           84.9      0.259               54.0                 NaN   \n",
              "12792           37.0      0.078               25.0               108.0   \n",
              "12793            NaN      0.029               26.0               274.0   \n",
              "12794           52.7        NaN              106.0               242.0   \n",
              "\n",
              "       Density    pH  Sulphates  Alcohol  LabelAppeal  AcidIndex  STARS  \n",
              "0      0.99280  3.33       0.59      9.9            0          8    2.0  \n",
              "1      1.02792  3.38       0.70      NaN           -1          7    3.0  \n",
              "2      0.99518  3.12       0.48     22.0           -1          8    3.0  \n",
              "3      0.99640  2.24       1.83      6.2           -1          6    1.0  \n",
              "4      0.99457  3.12       1.77     13.7            0          9    2.0  \n",
              "...        ...   ...        ...      ...          ...        ...    ...  \n",
              "12790  1.01077  3.39       0.57      4.9            1          5    NaN  \n",
              "12791  0.99518  4.46       1.20      NaN           -1          8    2.0  \n",
              "12792  0.99076  3.25        NaN     12.3            0          6    2.0  \n",
              "12793  0.99060  3.97       0.62     11.0           -1          6    2.0  \n",
              "12794  0.99454  3.94       0.12      9.9            0          7    2.0  \n",
              "\n",
              "[12795 rows x 17 columns]"
            ]
          },
          "execution_count": 5,
          "metadata": {},
          "output_type": "execute_result"
        }
      ],
      "source": [
        "df"
      ]
    },
    {
      "cell_type": "markdown",
      "metadata": {
        "id": "4440Ym35MnZ_"
      },
      "source": [
        "# EDA (Before Data preparation)"
      ]
    },
    {
      "cell_type": "code",
      "execution_count": 6,
      "metadata": {
        "id": "_BnG0jqQMwS3"
      },
      "outputs": [],
      "source": [
        "import pandas as pd"
      ]
    },
    {
      "cell_type": "markdown",
      "metadata": {
        "id": "qEEp_ZGbMw3m"
      },
      "source": [
        "# Data preparation"
      ]
    },
    {
      "cell_type": "code",
      "execution_count": null,
      "metadata": {
        "id": "eln9ym79M0YE"
      },
      "outputs": [],
      "source": []
    },
    {
      "cell_type": "markdown",
      "metadata": {
        "id": "Ij65TSlpM0_b"
      },
      "source": [
        "# EDA (After Data Preparation)"
      ]
    },
    {
      "cell_type": "code",
      "execution_count": null,
      "metadata": {
        "id": "NoceZ-_6NAhc"
      },
      "outputs": [],
      "source": []
    },
    {
      "cell_type": "markdown",
      "metadata": {
        "id": "-PsK1h7JNCB5"
      },
      "source": [
        "# Conclusions"
      ]
    },
    {
      "cell_type": "code",
      "execution_count": null,
      "metadata": {
        "id": "7C31jCH4NEVz"
      },
      "outputs": [],
      "source": []
    }
  ],
  "metadata": {
    "colab": {
      "authorship_tag": "ABX9TyOuQ+Dk7HDj+b1eGNIhmJdB",
      "include_colab_link": true,
      "provenance": []
    },
    "kernelspec": {
      "display_name": "Python 3",
      "name": "python3"
    },
    "language_info": {
      "codemirror_mode": {
        "name": "ipython",
        "version": 3
      },
      "file_extension": ".py",
      "mimetype": "text/x-python",
      "name": "python",
      "nbconvert_exporter": "python",
      "pygments_lexer": "ipython3",
      "version": "3.12.1"
    }
  },
  "nbformat": 4,
  "nbformat_minor": 0
}
